{
  "cells": [
    {
      "cell_type": "markdown",
      "metadata": {
        "id": "iDmIs92tjbsp"
      },
      "source": [
        "### 1. **Data Loading**\n"
      ]
    },
    {
      "cell_type": "code",
      "execution_count": null,
      "metadata": {
        "colab": {
          "base_uri": "https://localhost:8080/"
        },
        "id": "U3xUK-WbP8jV",
        "outputId": "9dda457a-0d5e-4f45-ebf4-8a2d966cae94"
      },
      "outputs": [
        {
          "output_type": "stream",
          "name": "stdout",
          "text": [
            "Requirement already satisfied: pandas in /usr/local/lib/python3.11/dist-packages (2.2.2)\n",
            "Requirement already satisfied: numpy in /usr/local/lib/python3.11/dist-packages (1.26.4)\n",
            "Requirement already satisfied: tensorflow in /usr/local/lib/python3.11/dist-packages (2.18.0)\n",
            "Requirement already satisfied: scikit-learn in /usr/local/lib/python3.11/dist-packages (1.6.1)\n",
            "Requirement already satisfied: nltk in /usr/local/lib/python3.11/dist-packages (3.9.1)\n",
            "Requirement already satisfied: seaborn in /usr/local/lib/python3.11/dist-packages (0.13.2)\n",
            "Requirement already satisfied: matplotlib in /usr/local/lib/python3.11/dist-packages (3.10.0)\n",
            "Requirement already satisfied: wordcloud in /usr/local/lib/python3.11/dist-packages (1.9.4)\n",
            "Requirement already satisfied: joblib in /usr/local/lib/python3.11/dist-packages (1.4.2)\n",
            "Requirement already satisfied: python-dateutil>=2.8.2 in /usr/local/lib/python3.11/dist-packages (from pandas) (2.8.2)\n",
            "Requirement already satisfied: pytz>=2020.1 in /usr/local/lib/python3.11/dist-packages (from pandas) (2025.1)\n",
            "Requirement already satisfied: tzdata>=2022.7 in /usr/local/lib/python3.11/dist-packages (from pandas) (2025.1)\n",
            "Requirement already satisfied: absl-py>=1.0.0 in /usr/local/lib/python3.11/dist-packages (from tensorflow) (1.4.0)\n",
            "Requirement already satisfied: astunparse>=1.6.0 in /usr/local/lib/python3.11/dist-packages (from tensorflow) (1.6.3)\n",
            "Requirement already satisfied: flatbuffers>=24.3.25 in /usr/local/lib/python3.11/dist-packages (from tensorflow) (25.2.10)\n",
            "Requirement already satisfied: gast!=0.5.0,!=0.5.1,!=0.5.2,>=0.2.1 in /usr/local/lib/python3.11/dist-packages (from tensorflow) (0.6.0)\n",
            "Requirement already satisfied: google-pasta>=0.1.1 in /usr/local/lib/python3.11/dist-packages (from tensorflow) (0.2.0)\n",
            "Requirement already satisfied: libclang>=13.0.0 in /usr/local/lib/python3.11/dist-packages (from tensorflow) (18.1.1)\n",
            "Requirement already satisfied: opt-einsum>=2.3.2 in /usr/local/lib/python3.11/dist-packages (from tensorflow) (3.4.0)\n",
            "Requirement already satisfied: packaging in /usr/local/lib/python3.11/dist-packages (from tensorflow) (24.2)\n",
            "Requirement already satisfied: protobuf!=4.21.0,!=4.21.1,!=4.21.2,!=4.21.3,!=4.21.4,!=4.21.5,<6.0.0dev,>=3.20.3 in /usr/local/lib/python3.11/dist-packages (from tensorflow) (5.29.4)\n",
            "Requirement already satisfied: requests<3,>=2.21.0 in /usr/local/lib/python3.11/dist-packages (from tensorflow) (2.32.3)\n",
            "Requirement already satisfied: setuptools in /usr/local/lib/python3.11/dist-packages (from tensorflow) (75.1.0)\n",
            "Requirement already satisfied: six>=1.12.0 in /usr/local/lib/python3.11/dist-packages (from tensorflow) (1.17.0)\n",
            "Requirement already satisfied: termcolor>=1.1.0 in /usr/local/lib/python3.11/dist-packages (from tensorflow) (2.5.0)\n",
            "Requirement already satisfied: typing-extensions>=3.6.6 in /usr/local/lib/python3.11/dist-packages (from tensorflow) (4.12.2)\n",
            "Requirement already satisfied: wrapt>=1.11.0 in /usr/local/lib/python3.11/dist-packages (from tensorflow) (1.17.2)\n",
            "Requirement already satisfied: grpcio<2.0,>=1.24.3 in /usr/local/lib/python3.11/dist-packages (from tensorflow) (1.71.0)\n",
            "Requirement already satisfied: tensorboard<2.19,>=2.18 in /usr/local/lib/python3.11/dist-packages (from tensorflow) (2.18.0)\n",
            "Requirement already satisfied: keras>=3.5.0 in /usr/local/lib/python3.11/dist-packages (from tensorflow) (3.8.0)\n",
            "Requirement already satisfied: h5py>=3.11.0 in /usr/local/lib/python3.11/dist-packages (from tensorflow) (3.13.0)\n",
            "Requirement already satisfied: ml-dtypes<0.5.0,>=0.4.0 in /usr/local/lib/python3.11/dist-packages (from tensorflow) (0.4.1)\n",
            "Requirement already satisfied: tensorflow-io-gcs-filesystem>=0.23.1 in /usr/local/lib/python3.11/dist-packages (from tensorflow) (0.37.1)\n",
            "Requirement already satisfied: scipy>=1.6.0 in /usr/local/lib/python3.11/dist-packages (from scikit-learn) (1.13.1)\n",
            "Requirement already satisfied: threadpoolctl>=3.1.0 in /usr/local/lib/python3.11/dist-packages (from scikit-learn) (3.6.0)\n",
            "Requirement already satisfied: click in /usr/local/lib/python3.11/dist-packages (from nltk) (8.1.8)\n",
            "Requirement already satisfied: regex>=2021.8.3 in /usr/local/lib/python3.11/dist-packages (from nltk) (2024.11.6)\n",
            "Requirement already satisfied: tqdm in /usr/local/lib/python3.11/dist-packages (from nltk) (4.67.1)\n",
            "Requirement already satisfied: contourpy>=1.0.1 in /usr/local/lib/python3.11/dist-packages (from matplotlib) (1.3.1)\n",
            "Requirement already satisfied: cycler>=0.10 in /usr/local/lib/python3.11/dist-packages (from matplotlib) (0.12.1)\n",
            "Requirement already satisfied: fonttools>=4.22.0 in /usr/local/lib/python3.11/dist-packages (from matplotlib) (4.56.0)\n",
            "Requirement already satisfied: kiwisolver>=1.3.1 in /usr/local/lib/python3.11/dist-packages (from matplotlib) (1.4.8)\n",
            "Requirement already satisfied: pillow>=8 in /usr/local/lib/python3.11/dist-packages (from matplotlib) (11.1.0)\n",
            "Requirement already satisfied: pyparsing>=2.3.1 in /usr/local/lib/python3.11/dist-packages (from matplotlib) (3.2.1)\n",
            "Requirement already satisfied: wheel<1.0,>=0.23.0 in /usr/local/lib/python3.11/dist-packages (from astunparse>=1.6.0->tensorflow) (0.45.1)\n",
            "Requirement already satisfied: rich in /usr/local/lib/python3.11/dist-packages (from keras>=3.5.0->tensorflow) (13.9.4)\n",
            "Requirement already satisfied: namex in /usr/local/lib/python3.11/dist-packages (from keras>=3.5.0->tensorflow) (0.0.8)\n",
            "Requirement already satisfied: optree in /usr/local/lib/python3.11/dist-packages (from keras>=3.5.0->tensorflow) (0.14.1)\n",
            "Requirement already satisfied: charset-normalizer<4,>=2 in /usr/local/lib/python3.11/dist-packages (from requests<3,>=2.21.0->tensorflow) (3.4.1)\n",
            "Requirement already satisfied: idna<4,>=2.5 in /usr/local/lib/python3.11/dist-packages (from requests<3,>=2.21.0->tensorflow) (3.10)\n",
            "Requirement already satisfied: urllib3<3,>=1.21.1 in /usr/local/lib/python3.11/dist-packages (from requests<3,>=2.21.0->tensorflow) (2.3.0)\n",
            "Requirement already satisfied: certifi>=2017.4.17 in /usr/local/lib/python3.11/dist-packages (from requests<3,>=2.21.0->tensorflow) (2025.1.31)\n",
            "Requirement already satisfied: markdown>=2.6.8 in /usr/local/lib/python3.11/dist-packages (from tensorboard<2.19,>=2.18->tensorflow) (3.7)\n",
            "Requirement already satisfied: tensorboard-data-server<0.8.0,>=0.7.0 in /usr/local/lib/python3.11/dist-packages (from tensorboard<2.19,>=2.18->tensorflow) (0.7.2)\n",
            "Requirement already satisfied: werkzeug>=1.0.1 in /usr/local/lib/python3.11/dist-packages (from tensorboard<2.19,>=2.18->tensorflow) (3.1.3)\n",
            "Requirement already satisfied: MarkupSafe>=2.1.1 in /usr/local/lib/python3.11/dist-packages (from werkzeug>=1.0.1->tensorboard<2.19,>=2.18->tensorflow) (3.0.2)\n",
            "Requirement already satisfied: markdown-it-py>=2.2.0 in /usr/local/lib/python3.11/dist-packages (from rich->keras>=3.5.0->tensorflow) (3.0.0)\n",
            "Requirement already satisfied: pygments<3.0.0,>=2.13.0 in /usr/local/lib/python3.11/dist-packages (from rich->keras>=3.5.0->tensorflow) (2.18.0)\n",
            "Requirement already satisfied: mdurl~=0.1 in /usr/local/lib/python3.11/dist-packages (from markdown-it-py>=2.2.0->rich->keras>=3.5.0->tensorflow) (0.1.2)\n"
          ]
        }
      ],
      "source": [
        "pip install pandas numpy tensorflow scikit-learn nltk seaborn matplotlib wordcloud joblib"
      ]
    },
    {
      "cell_type": "code",
      "execution_count": null,
      "metadata": {
        "colab": {
          "base_uri": "https://localhost:8080/"
        },
        "id": "IDkAv9BVQIkR",
        "outputId": "f7caf9e2-e921-403f-b74d-416241e32900"
      },
      "outputs": [
        {
          "output_type": "stream",
          "name": "stderr",
          "text": [
            "[nltk_data] Downloading package stopwords to /root/nltk_data...\n",
            "[nltk_data]   Package stopwords is already up-to-date!\n",
            "[nltk_data] Downloading package punkt to /root/nltk_data...\n",
            "[nltk_data]   Package punkt is already up-to-date!\n",
            "[nltk_data] Downloading package wordnet to /root/nltk_data...\n",
            "[nltk_data]   Package wordnet is already up-to-date!\n"
          ]
        },
        {
          "output_type": "execute_result",
          "data": {
            "text/plain": [
              "True"
            ]
          },
          "metadata": {},
          "execution_count": 12
        }
      ],
      "source": [
        "import pandas as pd\n",
        "import numpy as np\n",
        "import tensorflow as tf\n",
        "import nltk\n",
        "import matplotlib.pyplot as plt\n",
        "import seaborn as sns\n",
        "from nltk.corpus import stopwords\n",
        "from nltk.tokenize import word_tokenize\n",
        "from nltk.stem import WordNetLemmatizer\n",
        "from sklearn.model_selection import train_test_split\n",
        "from sklearn.feature_extraction.text import TfidfVectorizer\n",
        "from sklearn.metrics import accuracy_score, classification_report\n",
        "from tensorflow.keras.models import Sequential\n",
        "from tensorflow.keras.layers import Dense, Dropout, LSTM, Bidirectional, Conv1D, GlobalMaxPooling1D\n",
        "from tensorflow.keras.optimizers import Adam\n",
        "import joblib\n",
        "\n",
        "# Download NLTK resources\n",
        "nltk.download(\"stopwords\")\n",
        "nltk.download(\"punkt\")\n",
        "nltk.download(\"wordnet\")\n"
      ]
    },
    {
      "cell_type": "code",
      "execution_count": null,
      "metadata": {
        "colab": {
          "base_uri": "https://localhost:8080/",
          "height": 760
        },
        "id": "gq4WAg4yQMhg",
        "outputId": "4904ceff-4e1a-4fde-d011-72f6cae80119"
      },
      "outputs": [
        {
          "output_type": "stream",
          "name": "stdout",
          "text": [
            "                                 Product Description  Price Range\n",
            "0  -1 meter type c to c cable fast charging cable...            1\n",
            "1  -High performance Micro USB 3.0 hard disk cabl...            1\n",
            "2  -Make delicious milk foam creamer for your dri...            0\n",
            "3  -mini usb cable is easy to plug and play conne...            1\n",
            "4  ?Top Technology----8K@60HZ HDMI Cable? This 8K...            1\n",
            "Columns in dataset: Index(['Product Description', 'Price Range'], dtype='object')\n"
          ]
        },
        {
          "output_type": "stream",
          "name": "stderr",
          "text": [
            "<ipython-input-56-3a0280219213>:10: FutureWarning: A value is trying to be set on a copy of a DataFrame or Series through chained assignment using an inplace method.\n",
            "The behavior will change in pandas 3.0. This inplace method will never work because the intermediate object on which we are setting values always behaves as a copy.\n",
            "\n",
            "For example, when doing 'df[col].method(value, inplace=True)', try using 'df.method({col: value}, inplace=True)' or df[col] = df[col].method(value) instead, to perform the operation inplace on the original object.\n",
            "\n",
            "\n",
            "  df[\"Price Range\"].fillna(0, inplace=True)  # Replace NaN with 0\n",
            "<ipython-input-56-3a0280219213>:15: FutureWarning: \n",
            "\n",
            "Passing `palette` without assigning `hue` is deprecated and will be removed in v0.14.0. Assign the `x` variable to `hue` and set `legend=False` for the same effect.\n",
            "\n",
            "  sns.countplot(x=\"Price Range\", data=df, palette=\"viridis\")\n"
          ]
        },
        {
          "output_type": "display_data",
          "data": {
            "text/plain": [
              "<Figure size 600x400 with 1 Axes>"
            ],
            "image/png": "[encoded data removed]"
          },
          "metadata": {}
        }
      ],
      "source": [
        "file_path = \"/content/NLP_dataset_11 - Sheet1.csv\"\n",
        "df = pd.read_csv(file_path)\n",
        "\n",
        "# Display first few rows\n",
        "print(df.head())\n",
        "print(\"Columns in dataset:\", df.columns)\n",
        "\n",
        "# Convert to integer and replace invalid values\n",
        "df[\"Price Range\"] = pd.to_numeric(df[\"Price Range\"], errors=\"coerce\")  # Convert to numeric, replace errors with NaN\n",
        "df[\"Price Range\"].fillna(0, inplace=True)  # Replace NaN with 0\n",
        "df[\"Price Range\"] = df[\"Price Range\"].astype(int)  # Ensure it's an integer column\n",
        "\n",
        "\n",
        "plt.figure(figsize=(6, 4))\n",
        "sns.countplot(x=\"Price Range\", data=df, palette=\"viridis\")\n",
        "plt.ylabel(\"Count\")\n",
        "plt.title(\"Class Distribution\")\n",
        "plt.show()\n",
        "\n"
      ]
    },
    {
      "cell_type": "markdown",
      "metadata": {
        "id": "n7U4RAhwjmLo"
      },
      "source": [
        "### 2. **Text Processing**\n"
      ]
    },
    {
      "cell_type": "code",
      "execution_count": null,
      "metadata": {
        "colab": {
          "base_uri": "https://localhost:8080/"
        },
        "id": "FfnTwNTCQpSG",
        "outputId": "47f803d9-ec79-44b0-cdfc-ad6839f4cc36"
      },
      "outputs": [
        {
          "output_type": "stream",
          "name": "stderr",
          "text": [
            "[nltk_data] Downloading package punkt_tab to /root/nltk_data...\n",
            "[nltk_data]   Package punkt_tab is already up-to-date!\n",
            "[nltk_data] Downloading package punkt to /root/nltk_data...\n",
            "[nltk_data]   Package punkt is already up-to-date!\n",
            "[nltk_data] Downloading package stopwords to /root/nltk_data...\n",
            "[nltk_data]   Package stopwords is already up-to-date!\n",
            "[nltk_data] Downloading package wordnet to /root/nltk_data...\n",
            "[nltk_data]   Package wordnet is already up-to-date!\n"
          ]
        },
        {
          "output_type": "stream",
          "name": "stdout",
          "text": [
            "                                 Product Description  \\\n",
            "0  -1 meter type c to c cable fast charging cable...   \n",
            "1  -High performance Micro USB 3.0 hard disk cabl...   \n",
            "2  -Make delicious milk foam creamer for your dri...   \n",
            "3  -mini usb cable is easy to plug and play conne...   \n",
            "4  ?Top Technology----8K@60HZ HDMI Cable? This 8K...   \n",
            "\n",
            "                                     Processed_title  \n",
            "0  meter type c c cable fast charging cable conve...  \n",
            "1  performance micro usb hard disk cable connects...  \n",
            "2  delicious milk foam creamer drink home without...  \n",
            "3  usb cable easy plug play connection digital ca...  \n",
            "4  top technology hdmi cable hdmi cable us techno...  \n"
          ]
        }
      ],
      "source": [
        "import nltk\n",
        "nltk.download('punkt_tab')\n",
        "\n",
        "import pandas as pd\n",
        "import nltk\n",
        "import seaborn as sns\n",
        "import matplotlib.pyplot as plt\n",
        "from nltk.tokenize import word_tokenize\n",
        "from nltk.corpus import stopwords\n",
        "from nltk.stem import WordNetLemmatizer\n",
        "nltk.download(\"punkt\")\n",
        "nltk.download(\"stopwords\")\n",
        "nltk.download(\"wordnet\")\n",
        "\n",
        "# Initialize preprocessing tools\n",
        "lemmatizer = WordNetLemmatizer()\n",
        "stop_words = set(stopwords.words(\"english\"))\n",
        "\n",
        "def preprocess_text(text):\n",
        "    if pd.isna(text):\n",
        "        return \"\"\n",
        "    tokens = word_tokenize(text.lower())\n",
        "    tokens = [lemmatizer.lemmatize(word) for word in tokens if word.isalpha() and word not in stop_words]  # Lemmatization & stopword removal\n",
        "    return \" \".join(tokens)\n",
        "\n",
        "# Load dataset\n",
        "file_path = \"/content/NLP_dataset_11 - Sheet1.csv\"\n",
        "df = pd.read_csv(file_path)\n",
        "\n",
        "if \"Product Description\" not in df.columns:\n",
        "    print(\"Error: 'Product Description' column not found in the dataset!\")\n",
        "else:\n",
        "    # Apply preprocessing\n",
        "    df[\"Processed_title\"] = df[\"Product Description\"].astype(str).apply(preprocess_text)\n",
        "    print(df[[\"Product Description\", \"Processed_title\"]].head())\n",
        "\n",
        "\n",
        "\n"
      ]
    },
    {
      "cell_type": "markdown",
      "metadata": {
        "id": "2tW8ebCXkWqb"
      },
      "source": [
        "### 3. **Text Embedding**\n"
      ]
    },
    {
      "cell_type": "code",
      "source": [
        "print(df.columns)  # Check all column names\n",
        "print(df.head())   # Inspect the first few rows\n"
      ],
      "metadata": {
        "colab": {
          "base_uri": "https://localhost:8080/"
        },
        "id": "QDBULb20KYOb",
        "outputId": "7d96ec97-cf07-445d-c436-96539eb380fd"
      },
      "execution_count": null,
      "outputs": [
        {
          "output_type": "stream",
          "name": "stdout",
          "text": [
            "Index(['Product Description', 'Price Range', 'Processed_title'], dtype='object')\n",
            "                                 Product Description  Price Range  \\\n",
            "0  -1 meter type c to c cable fast charging cable...            1   \n",
            "1  -High performance Micro USB 3.0 hard disk cabl...            1   \n",
            "2  -Make delicious milk foam creamer for your dri...            0   \n",
            "3  -mini usb cable is easy to plug and play conne...            1   \n",
            "4  ?Top Technology----8K@60HZ HDMI Cable? This 8K...            1   \n",
            "\n",
            "                                     Processed_title  \n",
            "0  meter type c c cable fast charging cable conve...  \n",
            "1  performance micro usb hard disk cable connects...  \n",
            "2  delicious milk foam creamer drink home without...  \n",
            "3  usb cable easy plug play connection digital ca...  \n",
            "4  top technology hdmi cable hdmi cable us techno...  \n"
          ]
        }
      ]
    },
    {
      "cell_type": "code",
      "source": [
        "from sklearn.model_selection import train_test_split\n",
        "\n",
        "train_data, temp_data = train_test_split(df, test_size=0.3, random_state=42)\n",
        "val_data, test_data = train_test_split(temp_data, test_size=0.5, random_state=42)\n",
        "\n",
        "import numpy as np\n",
        "from tensorflow.keras.utils import to_categorical\n",
        "\n",
        "# Convert labels to integer type\n",
        "train_labels = np.array(train_data[\"Price Range\"], dtype=np.int32)\n",
        "val_labels = np.array(val_data[\"Price Range\"], dtype=np.int32)\n",
        "test_labels = np.array(test_data[\"Price Range\"], dtype=np.int32)\n",
        "\n",
        "# Replace invalid values (-9223372036854775808) with a valid class (e.g., 0)\n",
        "test_labels = np.where(test_labels < 0, 0, test_labels)\n",
        "\n",
        "# Verify the fix\n",
        "print(\"Unique values after fix:\", np.unique(test_labels))\n",
        "\n"
      ],
      "metadata": {
        "id": "IzU_uw90KuBc",
        "colab": {
          "base_uri": "https://localhost:8080/"
        },
        "outputId": "d0a88f56-76b1-45ac-8f97-832c0ce82809"
      },
      "execution_count": null,
      "outputs": [
        {
          "output_type": "stream",
          "name": "stdout",
          "text": [
            "Unique values after fix: [0 1 2]\n"
          ]
        }
      ]
    },
    {
      "cell_type": "code",
      "source": [
        "y_train = to_categorical(train_labels, num_classes=3)\n",
        "y_val = to_categorical(val_labels, num_classes=3)\n",
        "y_test = to_categorical(test_labels, num_classes=3)\n",
        "\n",
        "print(\"Shape of y_train:\", y_train.shape)\n",
        "print(\"Shape of y_val:\", y_val.shape)\n",
        "print(\"Shape of y_test:\", y_test.shape)\n"
      ],
      "metadata": {
        "colab": {
          "base_uri": "https://localhost:8080/"
        },
        "id": "9_gpyYTx5PpN",
        "outputId": "137aa890-1fff-4b20-e920-525831b39fb8"
      },
      "execution_count": null,
      "outputs": [
        {
          "output_type": "stream",
          "name": "stdout",
          "text": [
            "Shape of y_train: (421, 3)\n",
            "Shape of y_val: (90, 3)\n",
            "Shape of y_test: (91, 3)\n"
          ]
        }
      ]
    },
    {
      "cell_type": "code",
      "source": [
        "print(train_data['Processed_title'].tolist()[:20])  # Show first 20 processed titles\n"
      ],
      "metadata": {
        "colab": {
          "base_uri": "https://localhost:8080/"
        },
        "id": "D5eJ8ITLshjj",
        "outputId": "34894f00-2c57-49e6-8b29-8fff5cf0f454"
      },
      "execution_count": null,
      "outputs": [
        {
          "output_type": "stream",
          "name": "stdout",
          "text": [
            "['frothes milk used cold hot aa use clean easy convenient operate', 'bar soundbar powerful dual driver subwoofer deliver cinematic experience right soundbar come option like enjoy wireless streaming via bt mode choose others like usb aux hdmi coaxial soundbar come led display control fully functional remote power rms subwoofer wattssoundbar watt total sizesubwoofer x bar x response input coaxial hdmi arc max supported memory size usb name bar version', 'simply draw color clip pen together construct interesting ink last ink', 'resolution ultra hd x refresh rate hertz degree wide viewing hdmi port connect set top box blu ray player gaming console usb port connect hard drive usb watt output open baffle dolby audio clear tv feature google tv watchlist voice search google play chromecast netflix amazon prime video additional feature apple airplay apple homekit processor hdr live x reality pro motion flow information year warranty provided manufacture date brand contact installation product delivered contact sony assistance please visit brand website toll free number provide product model name seller detail mentioned invoice service center allot convenient slot return product eligible replacement within day delivery case product defect damage feature matching description provided', 'plug reliable grip tread designed wire end easy plugging unplugging usb type male type quality usb high speed cable usually used external drive enclosure usb supporting data transfer rate quality thin usb type adapter designed data transfer fast charging ideal hard drive enclosure printer modem scanner camera etc interference free', 'please match image existing remote placing quality plastic rubber product checked testing machine use please use new device sony home theater', 'resolution hd ready refresh rate hdmi port connect set top box blu ray player gaming console usb port connect hard drive usb watt output dolby digital tv feature voice assistant smartthings app personal computer home cloud live cast screen share music system voice control tv day ask alexa search movie play music control smart home device get sport update led panel mega contrast purcolor hd picture quality slim stylish information year comprehensive warranty plus additional year panel brand date tv table stand included box model customer may ask table top stand wall mount provided customer time installation please directly call samsung support provide product model name well seller detail mentioned return product eligible replacement within day delivery case product defect damage feature matching description provided', 'processor mediatek dimensity processor based process hyperengine clock speed inch dot display high refresh rate adaptive refresh rate technology touch sampling rate high resolution primary camera mp front battery pro fast charging storage ram internal display type lcd operating system miui based android month youtube premium free', 'india wearable watch brand idc worldwide quarterly wearable device tracker calling ninja calling smart watch enables make receive call directly watch smartwatch feature dial pad option access recent call sync phone heart rate track real time heart rate go smart watch featuring blood oxygen tracking optical sensor give almost acurate inch hd full best class hd full touch screen pixel hq resolution smart watch call function smooth functioning easy swipe making life better listen favourite song watch built speaker talk walk even enjoy song voice command watch let magic happen special technology ninja calling sport ninja calling best smart watch come sport tracking feature track acitivity true efficiency crown activate social life balance work culture never miss event meeting birthday trend allow notification displayed smartwatch rock party', 'size grade', 'screen size inch hd full touch display nit brightness bring every detail life get sharper color resolution brightens virtual world design ultra slim lightweight design watch ideal keep surfing wave day mode track daily activity calorie burnt step taken choose multiple sport mode include walking running cycling climbing yoga basketball football many fit apple health watch support google apple fit seamlessly monitor rating sweat freely work dust sweat splash customize style based watch face', 'mm tip body multicolor ink black red green pink turquoise blue orange blue brown purple lime green pack flow ink matte feel', 'package measuring cup spoon clearly labelled measurement use following recipe ingredient cup teaspoon marked millilitre come ring holder store measuring spoon together separate plastic material lightweight durable easy everyday great sugar flour coffee tea ingredient used baking cooking', 'protect cable cable protector designed highly flexible silicone applied phone charger saver charger protector completely protect cable device including cell phone computer laptop mouse cable effect protect wire power cord dirt fray tangle knot reduce risk fraying comfortable wire protector feel nice fun install wire end applied protect headphone cord charger cable also relieve stress touch relax even better cable protector look life cable charger cable saver help prolong life cable even cable install detailed usage provided worry wrap cable protector onto preferred cable', 'get detailed treble thumping bass warm tone vocal stereo earphone driver designed deliver audio suitable user compatible smartphones tablet laptop microphone supporting calling function take call go single button click high quality microphone provides clear audio volume easy use volume control button provided along control pod also multifunctional button play pause control call get advantage meter long durable connector cable connect laptop music movie game binge watch series long hour comfort lightweight stylish designed eartips earphone cable management joint wear without tangle available multiple color variant suit description month size name free size', 'sealing machine use snack food saver storage creates airtight container make food sealer easily reseal original plastic bag food stop exposed bottom easily attache refrigerator stationary metal surface keep handy kitchen outdoor cabinet anywhere need convenient sealer high quality ab material resistance high low seal create airtight seal prevent food tasting bland stale lock freshness flavor', 'note product work extender adapter hdmi compatible device work support extension function long distance transmission without hassle using single length long cable input output device need support arc using extended reach connecting player fire tv apple tv xbox one xbox computer device tv display receiver coupler easily connects two hdmi male male cable together support ethernet video audio return channel arc latest hdmi standard video hz color depth support bandwidth backwards compatible earlier x foot meter year limited warranty', 'universal compatibility compatible micro usb enabled device android smartphone tablet pc peripheral micro usb compatible made special braided outer rugged interior binding cable affected daily rough length ideal length meter neither short like typical cable long like maximum fast charging mbps data transfer month manufacturer warranty date purchase', 'best compatible remote control lg television model key netflix amazon prime video movie record live manufacturer substitution part may differ appearance functional equivalent original part generic product best substitute original remote use please use new aaa alkaline universal remote control model lg product checked testing machine shipment', 'inch display pixel larger screen body ratio fingerprint snapdragon gpu mhz support sim powerful ghz processor support memory latest ufs gear mah lithium polymer quad camera main macro depth lens front storage sim ram internal memory expandable dual sim color o based android operating type usb type type lcd']\n"
          ]
        }
      ]
    },
    {
      "cell_type": "code",
      "source": [
        "!pip install gensim"
      ],
      "metadata": {
        "colab": {
          "base_uri": "https://localhost:8080/"
        },
        "id": "19_ChV01ndRD",
        "outputId": "143ead14-03b5-4701-f739-03e48cc87029"
      },
      "execution_count": null,
      "outputs": [
        {
          "output_type": "stream",
          "name": "stdout",
          "text": [
            "Requirement already satisfied: gensim in /usr/local/lib/python3.11/dist-packages (4.3.3)\n",
            "Requirement already satisfied: numpy<2.0,>=1.18.5 in /usr/local/lib/python3.11/dist-packages (from gensim) (1.26.4)\n",
            "Requirement already satisfied: scipy<1.14.0,>=1.7.0 in /usr/local/lib/python3.11/dist-packages (from gensim) (1.13.1)\n",
            "Requirement already satisfied: smart-open>=1.8.1 in /usr/local/lib/python3.11/dist-packages (from gensim) (7.1.0)\n",
            "Requirement already satisfied: wrapt in /usr/local/lib/python3.11/dist-packages (from smart-open>=1.8.1->gensim) (1.17.2)\n"
          ]
        }
      ]
    },
    {
      "cell_type": "code",
      "source": [
        "from sklearn.feature_extraction.text import CountVectorizer, TfidfVectorizer\n",
        "import gensim\n",
        "\n",
        "# Bag of Words (BoW)\n",
        "bow_vectorizer = CountVectorizer(max_features=5000)\n",
        "# Access the correct column name 'Processed_title'\n",
        "X_train_bow = bow_vectorizer.fit_transform(train_data['Processed_title']).toarray() # Changed column name to 'Processed_title'\n",
        "X_val_bow = bow_vectorizer.transform(val_data['Processed_title']).toarray() # Changed column name to 'Processed_title'\n",
        "X_test_bow = bow_vectorizer.transform(test_data['Processed_title']).toarray() # Changed column name to 'Processed_title'\n",
        "\n",
        "# TF-IDF\n",
        "tfidf_vectorizer = TfidfVectorizer(max_features=5000)\n",
        "# Access the correct column name 'Processed_title'\n",
        "X_train_tfidf = tfidf_vectorizer.fit_transform(train_data['Processed_title']).toarray() # Changed column name to 'Processed_title'\n",
        "X_val_tfidf = tfidf_vectorizer.transform(val_data['Processed_title']).toarray() # Changed column name to 'Processed_title'\n",
        "X_test_tfidf = tfidf_vectorizer.transform(test_data['Processed_title']).toarray() # Changed column name to 'Processed_title'\n",
        "\n",
        "# FastText (Word Embeddings)\n",
        "# Access the correct column name 'Processed_title'\n",
        "fasttext_model = gensim.models.FastText(train_data['Processed_title'].apply(str.split), vector_size=100, window=5, min_count=5) # Changed column name to 'Processed_title'\n",
        "X_train_fasttext = [fasttext_model.wv[text.split()] for text in train_data['Processed_title']] # Changed column name to 'Processed_title'\n",
        "X_val_fasttext = [fasttext_model.wv[text.split()] for text in val_data['Processed_title']] # Changed column name to 'Processed_title'\n",
        "X_test_fasttext = [fasttext_model.wv[text.split()] for text in test_data['Processed_title']] # Changed column name to 'Processed_title'\n",
        "\n",
        "\n",
        "print(\"Embedding completed for BoW, TF-IDF, and FastText.\")"
      ],
      "metadata": {
        "colab": {
          "base_uri": "https://localhost:8080/"
        },
        "id": "6cJtL1LqIMvS",
        "outputId": "a514da4a-fa4a-443c-e680-3774002aa658"
      },
      "execution_count": null,
      "outputs": [
        {
          "output_type": "stream",
          "name": "stdout",
          "text": [
            "Embedding completed for BoW, TF-IDF, and FastText.\n"
          ]
        }
      ]
    },
    {
      "cell_type": "markdown",
      "metadata": {
        "id": "QRCuJq6Pkrc6"
      },
      "source": [
        "### 4. **Model Training with Different Architectures**\n"
      ]
    },
    {
      "cell_type": "code",
      "source": [
        "import numpy as np\n",
        "from tensorflow.keras.utils import to_categorical\n",
        "\n",
        "# Convert to a standard NumPy int array\n",
        "train_labels = np.array(train_data[\"Price Range\"], dtype=np.int32)\n",
        "val_labels = np.array(val_data[\"Price Range\"], dtype=np.int32)\n",
        "test_labels = np.array(test_data[\"Price Range\"], dtype=np.int32)\n",
        "\n",
        "# Now apply one-hot encoding\n",
        "y_train = to_categorical(train_labels, num_classes=3)\n",
        "y_val = to_categorical(val_labels, num_classes=3)\n",
        "\n"
      ],
      "metadata": {
        "id": "x8bIG_dC0LC-"
      },
      "execution_count": null,
      "outputs": []
    },
    {
      "cell_type": "code",
      "source": [
        "# Replace invalid values (-2147483648) with a valid class (e.g., 0)\n",
        "test_labels = np.where(test_labels == -2147483648, 0, test_labels)\n",
        "\n",
        "# Verify the fix\n",
        "print(\"Unique values after fix:\", np.unique(test_labels))\n",
        "y_test = to_categorical(test_labels, num_classes=3)\n",
        "\n"
      ],
      "metadata": {
        "colab": {
          "base_uri": "https://localhost:8080/"
        },
        "id": "VsUQhf190yAj",
        "outputId": "5f85b911-a45d-44f6-a1fe-b7dbca8e3a08"
      },
      "execution_count": null,
      "outputs": [
        {
          "output_type": "stream",
          "name": "stdout",
          "text": [
            "Unique values after fix: [0 1 2]\n"
          ]
        }
      ]
    },
    {
      "cell_type": "code",
      "source": [
        "print(\"Unique values in train_data:\", np.unique(train_data['Price Range']))\n",
        "print(\"Unique values in val_data:\", np.unique(val_data['Price Range']))\n",
        "print(\"Unique values in test_data:\", np.unique(test_data['Price Range']))\n"
      ],
      "metadata": {
        "colab": {
          "base_uri": "https://localhost:8080/"
        },
        "id": "V2TgpqNP6M8k",
        "outputId": "3e895aa3-02ba-4e88-c575-ce1de1cc4184"
      },
      "execution_count": null,
      "outputs": [
        {
          "output_type": "stream",
          "name": "stdout",
          "text": [
            "Unique values in train_data: [0 1 2]\n",
            "Unique values in val_data: [0 1 2]\n",
            "Unique values in test_data: [0 1 2]\n"
          ]
        }
      ]
    },
    {
      "cell_type": "code",
      "source": [
        "from tensorflow.keras.utils import to_categorical\n",
        "\n",
        "# Convert labels to categorical (one-hot encoding)\n",
        "y_train = to_categorical(train_data['Price Range'], num_classes=3)\n",
        "y_val = to_categorical(val_data['Price Range'], num_classes=3)\n",
        "y_test = to_categorical(test_data['Price Range'], num_classes=3)\n"
      ],
      "metadata": {
        "id": "PSvkFyzw2KhY"
      },
      "execution_count": null,
      "outputs": []
    },
    {
      "cell_type": "code",
      "source": [
        "from keras.models import Sequential\n",
        "from keras.layers import Dense, Conv1D, MaxPooling1D, LSTM, Bidirectional, Embedding, Flatten\n",
        "\n",
        "# Define a CNN model\n",
        "def cnn_model(input_dim):\n",
        "    model = Sequential()\n",
        "    model.add(Embedding(input_dim, 128, input_length=5000))\n",
        "    model.add(Conv1D(filters=64, kernel_size=5, activation='relu'))\n",
        "    model.add(MaxPooling1D(pool_size=2))\n",
        "    model.add(Flatten())\n",
        "    model.add(Dense(100, activation='relu'))\n",
        "    model.add(Dense(3, activation='softmax'))  # CHANGED HERE\n",
        "    model.compile(optimizer='adam', loss='categorical_crossentropy', metrics=['accuracy'])  # CHANGED HERE\n",
        "    return model\n",
        "\n",
        "\n",
        "# Define an LSTM model\n",
        "def lstm_model(input_dim):\n",
        "    model = Sequential()\n",
        "    model.add(Embedding(input_dim, 128, input_length=5000))\n",
        "    model.add(LSTM(100, dropout=0.2, recurrent_dropout=0.2))\n",
        "    model.add(Dense(3, activation='softmax'))  # CHANGED HERE\n",
        "    model.compile(optimizer='adam', loss='categorical_crossentropy', metrics=['accuracy'])  # CHANGED HERE\n",
        "    return model\n",
        "\n",
        "\n",
        "# Define a CNN-BiLSTM model\n",
        "def cnn_bilstm_model(input_dim):\n",
        "    model = Sequential()\n",
        "    model.add(Embedding(input_dim, 128, input_length=5000))\n",
        "    model.add(Conv1D(filters=64, kernel_size=5, activation='relu'))\n",
        "    model.add(MaxPooling1D(pool_size=2))\n",
        "    model.add(Bidirectional(LSTM(100, dropout=0.2, recurrent_dropout=0.2)))\n",
        "    model.add(Dense(3, activation='softmax'))  # CHANGED HERE\n",
        "    model.compile(optimizer='adam', loss='categorical_crossentropy', metrics=['accuracy'])  # CHANGED HERE\n",
        "    return model\n",
        "\n",
        "# Ensure labels are correctly one-hot encoded before training\n",
        "input_dim = 5000\n",
        "\n",
        "cnn = cnn_model(input_dim)\n",
        "cnn.fit(X_train_bow, y_train, validation_data=(X_val_bow, y_val), epochs=5, batch_size=64)\n",
        "\n",
        "lstm = lstm_model(input_dim)\n",
        "lstm.fit(X_train_bow, y_train, validation_data=(X_val_bow, y_val), epochs=5, batch_size=64)\n",
        "\n",
        "bilstm = cnn_bilstm_model(input_dim)\n",
        "bilstm.fit(X_train_bow, y_train, validation_data=(X_val_bow, y_val), epochs=5, batch_size=64)\n",
        "\n",
        "\n"
      ],
      "metadata": {
        "id": "8hKcYbifm6en",
        "outputId": "8a989329-e1c0-42ae-f13a-c5db424c3442",
        "colab": {
          "base_uri": "https://localhost:8080/"
        }
      },
      "execution_count": null,
      "outputs": [
        {
          "output_type": "stream",
          "name": "stdout",
          "text": [
            "Epoch 1/5\n"
          ]
        },
        {
          "output_type": "stream",
          "name": "stderr",
          "text": [
            "/usr/local/lib/python3.11/dist-packages/keras/src/layers/core/embedding.py:90: UserWarning: Argument `input_length` is deprecated. Just remove it.\n",
            "  warnings.warn(\n"
          ]
        },
        {
          "output_type": "stream",
          "name": "stdout",
          "text": [
            "\u001b[1m7/7\u001b[0m \u001b[32m━━━━━━━━━━━━━━━━━━━━\u001b[0m\u001b[37m\u001b[0m \u001b[1m8s\u001b[0m 550ms/step - accuracy: 0.3850 - loss: 1.2413 - val_accuracy: 0.5333 - val_loss: 0.9791\n",
            "Epoch 2/5\n",
            "\u001b[1m7/7\u001b[0m \u001b[32m━━━━━━━━━━━━━━━━━━━━\u001b[0m\u001b[37m\u001b[0m \u001b[1m5s\u001b[0m 65ms/step - accuracy: 0.5411 - loss: 0.9690 - val_accuracy: 0.6000 - val_loss: 0.8456\n",
            "Epoch 3/5\n",
            "\u001b[1m7/7\u001b[0m \u001b[32m━━━━━━━━━━━━━━━━━━━━\u001b[0m\u001b[37m\u001b[0m \u001b[1m0s\u001b[0m 50ms/step - accuracy: 0.7294 - loss: 0.6892 - val_accuracy: 0.8333 - val_loss: 0.5147\n",
            "Epoch 4/5\n",
            "\u001b[1m7/7\u001b[0m \u001b[32m━━━━━━━━━━━━━━━━━━━━\u001b[0m\u001b[37m\u001b[0m \u001b[1m1s\u001b[0m 56ms/step - accuracy: 0.8811 - loss: 0.3164 - val_accuracy: 0.8333 - val_loss: 0.3830\n",
            "Epoch 5/5\n",
            "\u001b[1m7/7\u001b[0m \u001b[32m━━━━━━━━━━━━━━━━━━━━\u001b[0m\u001b[37m\u001b[0m \u001b[1m0s\u001b[0m 51ms/step - accuracy: 0.9615 - loss: 0.1358 - val_accuracy: 0.8667 - val_loss: 0.4291\n",
            "Epoch 1/5\n",
            "\u001b[1m7/7\u001b[0m \u001b[32m━━━━━━━━━━━━━━━━━━━━\u001b[0m\u001b[37m\u001b[0m \u001b[1m89s\u001b[0m 12s/step - accuracy: 0.3347 - loss: 1.0962 - val_accuracy: 0.3556 - val_loss: 1.1023\n",
            "Epoch 2/5\n",
            "\u001b[1m7/7\u001b[0m \u001b[32m━━━━━━━━━━━━━━━━━━━━\u001b[0m\u001b[37m\u001b[0m \u001b[1m140s\u001b[0m 12s/step - accuracy: 0.3810 - loss: 1.1065 - val_accuracy: 0.3556 - val_loss: 1.0974\n",
            "Epoch 3/5\n",
            "\u001b[1m7/7\u001b[0m \u001b[32m━━━━━━━━━━━━━━━━━━━━\u001b[0m\u001b[37m\u001b[0m \u001b[1m140s\u001b[0m 12s/step - accuracy: 0.4005 - loss: 1.0905 - val_accuracy: 0.3556 - val_loss: 1.0966\n",
            "Epoch 4/5\n",
            "\u001b[1m7/7\u001b[0m \u001b[32m━━━━━━━━━━━━━━━━━━━━\u001b[0m\u001b[37m\u001b[0m \u001b[1m144s\u001b[0m 12s/step - accuracy: 0.3886 - loss: 1.0879 - val_accuracy: 0.3556 - val_loss: 1.0978\n",
            "Epoch 5/5\n",
            "\u001b[1m7/7\u001b[0m \u001b[32m━━━━━━━━━━━━━━━━━━━━\u001b[0m\u001b[37m\u001b[0m \u001b[1m139s\u001b[0m 12s/step - accuracy: 0.3896 - loss: 1.0950 - val_accuracy: 0.3556 - val_loss: 1.0990\n",
            "Epoch 1/5\n",
            "\u001b[1m7/7\u001b[0m \u001b[32m━━━━━━━━━━━━━━━━━━━━\u001b[0m\u001b[37m\u001b[0m \u001b[1m85s\u001b[0m 11s/step - accuracy: 0.3404 - loss: 1.0962 - val_accuracy: 0.3556 - val_loss: 1.0988\n",
            "Epoch 2/5\n",
            "\u001b[1m7/7\u001b[0m \u001b[32m━━━━━━━━━━━━━━━━━━━━\u001b[0m\u001b[37m\u001b[0m \u001b[1m80s\u001b[0m 11s/step - accuracy: 0.3857 - loss: 1.0864 - val_accuracy: 0.3556 - val_loss: 1.0953\n",
            "Epoch 3/5\n",
            "\u001b[1m7/7\u001b[0m \u001b[32m━━━━━━━━━━━━━━━━━━━━\u001b[0m\u001b[37m\u001b[0m \u001b[1m81s\u001b[0m 11s/step - accuracy: 0.3885 - loss: 1.0902 - val_accuracy: 0.3556 - val_loss: 1.0973\n",
            "Epoch 4/5\n",
            "\u001b[1m7/7\u001b[0m \u001b[32m━━━━━━━━━━━━━━━━━━━━\u001b[0m\u001b[37m\u001b[0m \u001b[1m85s\u001b[0m 11s/step - accuracy: 0.3587 - loss: 1.0950 - val_accuracy: 0.3556 - val_loss: 1.0931\n",
            "Epoch 5/5\n",
            "\u001b[1m7/7\u001b[0m \u001b[32m━━━━━━━━━━━━━━━━━━━━\u001b[0m\u001b[37m\u001b[0m \u001b[1m132s\u001b[0m 11s/step - accuracy: 0.4027 - loss: 1.0803 - val_accuracy: 0.3556 - val_loss: 1.0901\n"
          ]
        },
        {
          "output_type": "execute_result",
          "data": {
            "text/plain": [
              "<keras.src.callbacks.history.History at 0x7e37cfede810>"
            ]
          },
          "metadata": {},
          "execution_count": 68
        }
      ]
    },
    {
      "cell_type": "markdown",
      "metadata": {
        "id": "WDrAmwemlXEu"
      },
      "source": [
        "### 5. **Comparative Analysis of Models**\n"
      ]
    },
    {
      "cell_type": "code",
      "source": [
        "from sklearn.metrics import accuracy_score, classification_report\n",
        "import numpy as np  # Import NumPy for argmax()\n",
        "\n",
        "# Predict on test data\n",
        "y_pred_cnn = cnn.predict(X_test_bow)\n",
        "y_pred_lstm = lstm_model(input_dim).predict(X_test_bow)\n",
        "y_pred_cnn_bilstm = cnn_bilstm_model(input_dim).predict(X_test_bow)\n",
        "\n",
        "# Convert one-hot encoded predictions to class labels\n",
        "y_pred_cnn_classes = np.argmax(y_pred_cnn, axis=1)\n",
        "y_pred_lstm_classes = np.argmax(y_pred_lstm, axis=1)\n",
        "y_pred_cnn_bilstm_classes = np.argmax(y_pred_cnn_bilstm, axis=1)\n",
        "\n",
        "# Calculate accuracy and classification report\n",
        "cnn_acc = accuracy_score(test_data['Price Range'], y_pred_cnn_classes)\n",
        "print(\"CNN Accuracy:\", cnn_acc)\n",
        "print(\"CNN Classification Report:\\n\", classification_report(test_data['Price Range'], y_pred_cnn_classes))\n",
        "\n",
        "lstm_acc = accuracy_score(test_data['Price Range'], y_pred_lstm_classes)\n",
        "print(\"LSTM Accuracy:\", lstm_acc)\n",
        "print(\"LSTM Classification Report:\\n\", classification_report(test_data['Price Range'], y_pred_lstm_classes))\n",
        "\n",
        "bilstm_acc = accuracy_score(test_data['Price Range'], y_pred_cnn_bilstm_classes)\n",
        "print(\"CNN-BiLSTM Accuracy:\", bilstm_acc)\n",
        "print(\"CNN-BiLSTM Classification Report:\\n\", classification_report(test_data['Price Range'], y_pred_cnn_bilstm_classes))\n"
      ],
      "metadata": {
        "colab": {
          "base_uri": "https://localhost:8080/"
        },
        "id": "7mDzvaRKATeN",
        "outputId": "7d544bec-6029-438f-a8cb-9a133766911b"
      },
      "execution_count": null,
      "outputs": [
        {
          "output_type": "stream",
          "name": "stdout",
          "text": [
            "\u001b[1m3/3\u001b[0m \u001b[32m━━━━━━━━━━━━━━━━━━━━\u001b[0m\u001b[37m\u001b[0m \u001b[1m0s\u001b[0m 21ms/step\n",
            "\u001b[1m3/3\u001b[0m \u001b[32m━━━━━━━━━━━━━━━━━━━━\u001b[0m\u001b[37m\u001b[0m \u001b[1m6s\u001b[0m 2s/step\n",
            "\u001b[1m3/3\u001b[0m \u001b[32m━━━━━━━━━━━━━━━━━━━━\u001b[0m\u001b[37m\u001b[0m \u001b[1m9s\u001b[0m 3s/step\n",
            "CNN Accuracy: 0.8681318681318682\n",
            "CNN Classification Report:\n",
            "               precision    recall  f1-score   support\n",
            "\n",
            "           0       0.85      0.82      0.84        34\n",
            "           1       0.83      0.83      0.83        36\n",
            "           2       0.95      1.00      0.98        21\n",
            "\n",
            "    accuracy                           0.87        91\n",
            "   macro avg       0.88      0.89      0.88        91\n",
            "weighted avg       0.87      0.87      0.87        91\n",
            "\n",
            "LSTM Accuracy: 0.3956043956043956\n",
            "LSTM Classification Report:\n",
            "               precision    recall  f1-score   support\n",
            "\n",
            "           0       0.00      0.00      0.00        34\n",
            "           1       0.40      1.00      0.57        36\n",
            "           2       0.00      0.00      0.00        21\n",
            "\n",
            "    accuracy                           0.40        91\n",
            "   macro avg       0.13      0.33      0.19        91\n",
            "weighted avg       0.16      0.40      0.22        91\n",
            "\n",
            "CNN-BiLSTM Accuracy: 0.23076923076923078\n",
            "CNN-BiLSTM Classification Report:\n",
            "               precision    recall  f1-score   support\n",
            "\n",
            "           0       0.00      0.00      0.00        34\n",
            "           1       0.00      0.00      0.00        36\n",
            "           2       0.23      1.00      0.38        21\n",
            "\n",
            "    accuracy                           0.23        91\n",
            "   macro avg       0.08      0.33      0.12        91\n",
            "weighted avg       0.05      0.23      0.09        91\n",
            "\n"
          ]
        },
        {
          "output_type": "stream",
          "name": "stderr",
          "text": [
            "/usr/local/lib/python3.11/dist-packages/sklearn/metrics/_classification.py:1565: UndefinedMetricWarning: Precision is ill-defined and being set to 0.0 in labels with no predicted samples. Use `zero_division` parameter to control this behavior.\n",
            "  _warn_prf(average, modifier, f\"{metric.capitalize()} is\", len(result))\n",
            "/usr/local/lib/python3.11/dist-packages/sklearn/metrics/_classification.py:1565: UndefinedMetricWarning: Precision is ill-defined and being set to 0.0 in labels with no predicted samples. Use `zero_division` parameter to control this behavior.\n",
            "  _warn_prf(average, modifier, f\"{metric.capitalize()} is\", len(result))\n",
            "/usr/local/lib/python3.11/dist-packages/sklearn/metrics/_classification.py:1565: UndefinedMetricWarning: Precision is ill-defined and being set to 0.0 in labels with no predicted samples. Use `zero_division` parameter to control this behavior.\n",
            "  _warn_prf(average, modifier, f\"{metric.capitalize()} is\", len(result))\n",
            "/usr/local/lib/python3.11/dist-packages/sklearn/metrics/_classification.py:1565: UndefinedMetricWarning: Precision is ill-defined and being set to 0.0 in labels with no predicted samples. Use `zero_division` parameter to control this behavior.\n",
            "  _warn_prf(average, modifier, f\"{metric.capitalize()} is\", len(result))\n",
            "/usr/local/lib/python3.11/dist-packages/sklearn/metrics/_classification.py:1565: UndefinedMetricWarning: Precision is ill-defined and being set to 0.0 in labels with no predicted samples. Use `zero_division` parameter to control this behavior.\n",
            "  _warn_prf(average, modifier, f\"{metric.capitalize()} is\", len(result))\n",
            "/usr/local/lib/python3.11/dist-packages/sklearn/metrics/_classification.py:1565: UndefinedMetricWarning: Precision is ill-defined and being set to 0.0 in labels with no predicted samples. Use `zero_division` parameter to control this behavior.\n",
            "  _warn_prf(average, modifier, f\"{metric.capitalize()} is\", len(result))\n"
          ]
        }
      ]
    },
    {
      "cell_type": "markdown",
      "metadata": {
        "id": "avwHYPW6ldAt"
      },
      "source": [
        "### 6. **Saving the Best Model**"
      ]
    },
    {
      "cell_type": "code",
      "execution_count": null,
      "metadata": {
        "colab": {
          "base_uri": "https://localhost:8080/"
        },
        "id": "SLDolgnw_w0v",
        "outputId": "086e285b-28e2-489f-81a2-f3b9d4bcac9f"
      },
      "outputs": [
        {
          "output_type": "stream",
          "name": "stderr",
          "text": [
            "WARNING:absl:You are saving your model as an HDF5 file via `model.save()` or `keras.saving.save_model(model)`. This file format is considered legacy. We recommend using instead the native Keras format, e.g. `model.save('my_model.keras')` or `keras.saving.save_model(model, 'my_model.keras')`. \n"
          ]
        },
        {
          "output_type": "stream",
          "name": "stdout",
          "text": [
            "Best model saved as 'best_text_classification_model.h5'\n"
          ]
        }
      ],
      "source": [
        "cnn.save('best_text_classification_model.h5')\n",
        "print(\"Best model saved as 'best_text_classification_model.h5'\")"
      ]
    },
    {
      "cell_type": "markdown",
      "metadata": {
        "id": "JK-Ogzg5lwGY"
      },
      "source": [
        "### 7. **Prediction on Real-World Input**\n"
      ]
    },
    {
      "cell_type": "code",
      "source": [
        "# Load the saved model\n",
        "from keras.models import load_model\n",
        "model = load_model('best_text_classification_model.h5')\n",
        "\n",
        "# Real-world input\n",
        "new_text = \"21.5 Inch VA Panel Full HD 1920 X 1080 Resolution Monitor I 250 Nits Brightness I 178 / 178 View Angle|Connectivity Options : HDMI and VGA Ports with Inbox HDMI Cable|5MS Response Time 75Hz Fast Refresh Rate|Eye Care Featues Includes Bluelight Shield I Flickerless I Comfyview|Wall Mount Ready I -5 to -20 Tilt Adjustment\"\n",
        "processed_text = preprocess_text(new_text)\n",
        "input_data = bow_vectorizer.transform([processed_text]).toarray()\n",
        "\n",
        "# Predicting the class of new text\n",
        "predicted_class = model.predict(input_data).round()\n",
        "import numpy as np\n",
        "\n",
        "# Convert one-hot encoded prediction to class label\n",
        "predicted_label = np.argmax(predicted_class)\n",
        "\n",
        "if(predicted_label == 0):\n",
        "  print(f\"Predicted Class Label: Low\")\n",
        "elif(predicted_label == 1):\n",
        "  print(f\"Predicted Class Label: Medium\")\n",
        "else :\n",
        "  print(f\"Predicted Class Label: High\")\n",
        "\n"
      ],
      "metadata": {
        "colab": {
          "base_uri": "https://localhost:8080/"
        },
        "id": "nShU1I8GBoui",
        "outputId": "c1937e27-b838-4c6b-9c4a-de2d56527651"
      },
      "execution_count": null,
      "outputs": [
        {
          "output_type": "stream",
          "name": "stderr",
          "text": [
            "WARNING:absl:Compiled the loaded model, but the compiled metrics have yet to be built. `model.compile_metrics` will be empty until you train or evaluate the model.\n"
          ]
        },
        {
          "output_type": "stream",
          "name": "stdout",
          "text": [
            "\u001b[1m1/1\u001b[0m \u001b[32m━━━━━━━━━━━━━━━━━━━━\u001b[0m\u001b[37m\u001b[0m \u001b[1m0s\u001b[0m 267ms/step\n",
            "Predicted Class Label: High\n"
          ]
        }
      ]
    }
  ],
  "metadata": {
    "colab": {
      "provenance": [],
      "gpuType": "T4"
    },
    "kernelspec": {
      "display_name": "Python 3",
      "name": "python3"
    },
    "language_info": {
      "name": "python"
    },
    "accelerator": "GPU"
  },
  "nbformat": 4,
  "nbformat_minor": 0
}